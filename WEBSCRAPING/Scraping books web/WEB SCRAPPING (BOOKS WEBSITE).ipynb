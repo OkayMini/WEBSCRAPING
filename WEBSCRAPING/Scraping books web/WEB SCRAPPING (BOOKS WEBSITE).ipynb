{
 "cells": [
  {
   "cell_type": "markdown",
   "metadata": {},
   "source": [
    "#### Step 1 - Imports"
   ]
  },
  {
   "cell_type": "code",
   "execution_count": 64,
   "metadata": {},
   "outputs": [],
   "source": [
    "import requests\n",
    "import pandas as pd\n"
   ]
  },
  {
   "cell_type": "markdown",
   "metadata": {},
   "source": [
    "#### Step 2 - Requests & CURL"
   ]
  },
  {
   "cell_type": "code",
   "execution_count": 65,
   "metadata": {},
   "outputs": [],
   "source": [
    "import requests\n",
    "\n",
    "params = (\n",
    "    ('ResultOrder', 'Popularity'),\n",
    "    ('CountryCode', 'IN'),\n",
    "    ('subjectId', '13'),\n",
    ")\n",
    "\n",
    "response = requests.get('https://www.ebooks.com/api/search/subject/', params=params)\n",
    "\n"
   ]
  },
  {
   "cell_type": "markdown",
   "metadata": {},
   "source": [
    "#### Step 3 - Check Status Code"
   ]
  },
  {
   "cell_type": "code",
   "execution_count": 3,
   "metadata": {},
   "outputs": [
    {
     "data": {
      "text/plain": [
       "<Response [200]>"
      ]
     },
     "execution_count": 3,
     "metadata": {},
     "output_type": "execute_result"
    }
   ],
   "source": [
    "response"
   ]
  },
  {
   "cell_type": "markdown",
   "metadata": {},
   "source": [
    "#### Step 4 - Create Json Object"
   ]
  },
  {
   "cell_type": "code",
   "execution_count": 4,
   "metadata": {},
   "outputs": [
    {
     "data": {
      "text/plain": [
       "{'search_term': None,\n",
       " 'start_record': 1,\n",
       " 'total_results': 51290,\n",
       " 'books': [{'id': 95729334,\n",
       "   'book_url': '/en-in/book/95729334/designing-data-intensive-applications/martin-kleppmann/',\n",
       "   'image_url': 'https://image.ebooks.com/previews/095/095729/095729334/095729334-sml-1.jpg',\n",
       "   'image_alt_tag': 'Designing Data-Intensive Applications: The Big Ideas Behind Reliable, Scalable, and Maintainable Systems',\n",
       "   'title': 'Designing Data-Intensive Applications',\n",
       "   'edition': '',\n",
       "   'subtitle': 'The Big Ideas Behind Reliable, Scalable, and Maintainable Systems',\n",
       "   'authors': [{'author_name': 'Martin Kleppmann',\n",
       "     'author_url': '/en-in/author/martin-kleppmann/1321307/'}],\n",
       "   'num_authors': 1,\n",
       "   'series': ' Series',\n",
       "   'series_number': '',\n",
       "   'has_series': False,\n",
       "   'series_url': '',\n",
       "   'publisher': \"O'Reilly Media\",\n",
       "   'publication_year': '2017',\n",
       "   'price': 'US$14.99',\n",
       "   'desktop_short_description': 'Data is at the center of many challenges in system design today. Difficult issues need to be figured out, such as scalability, consistency, reliability, efficiency, and maintainability. In addition, we have an overwhelming variety of tools, including relational databases, NoSQL datastores, stream or batch processors, and message brokers. What are...',\n",
       "   'mobile_short_description': 'Data is at the center of many challenges in system design today. Difficult issues need to be figured...',\n",
       "   'is_preorder': False,\n",
       "   'is_available': True,\n",
       "   'preorder_url': '/account/preorder/?bookId=95729334',\n",
       "   'add_to_cart_url': '/cart/add/95729334/',\n",
       "   'currency_symbol': 'US$',\n",
       "   'price_number': 14.99396928,\n",
       "   'on_sale_date': '2017-03-16T00:00:00'},\n",
       "  {'id': 210313783,\n",
       "   'book_url': '/en-in/book/210313783/programming-rust/jim-blandy/',\n",
       "   'image_url': 'https://image.ebooks.com/previews/210/210313/210313783/210313783-sml-1.jpg',\n",
       "   'image_alt_tag': 'Programming Rust',\n",
       "   'title': 'Programming Rust',\n",
       "   'edition': ' (2nd ed.)',\n",
       "   'subtitle': '',\n",
       "   'authors': [{'author_name': 'Jim Blandy',\n",
       "     'author_url': '/en-in/author/jim-blandy/94214791/'},\n",
       "    {'author_name': 'Jason Orendorff',\n",
       "     'author_url': '/en-in/author/jason-orendorff/94214792/'}],\n",
       "   'num_authors': 3,\n",
       "   'series': ' Series',\n",
       "   'series_number': '',\n",
       "   'has_series': False,\n",
       "   'series_url': '',\n",
       "   'publisher': \"O'Reilly Media\",\n",
       "   'publication_year': '2021',\n",
       "   'price': 'US$22.40',\n",
       "   'desktop_short_description': \"Systems programming provides the foundation for the world's computation. Writing performance-sensitive code requires a programming language that puts programmers in control of how memory, processor time, and other system resources are used. The Rust systems programming language combines that control with a modern type system that catches broad...\",\n",
       "   'mobile_short_description': \"Systems programming provides the foundation for the world's computation. Writing...\",\n",
       "   'is_preorder': False,\n",
       "   'is_available': True,\n",
       "   'preorder_url': '/account/preorder/?bookId=210313783',\n",
       "   'add_to_cart_url': '/cart/add/210313783/',\n",
       "   'currency_symbol': 'US$',\n",
       "   'price_number': 22.40152128,\n",
       "   'on_sale_date': '2021-06-11T00:00:00'},\n",
       "  {'id': 95871448,\n",
       "   'book_url': '/en-in/book/95871448/python-for-data-analysis/wes-mckinney/',\n",
       "   'image_url': 'https://image.ebooks.com/previews/095/095871/095871448/095871448-sml-1.jpg',\n",
       "   'image_alt_tag': 'Python for Data Analysis: Data Wrangling with Pandas, NumPy, and IPython',\n",
       "   'title': 'Python for Data Analysis',\n",
       "   'edition': ' (2nd ed.)',\n",
       "   'subtitle': 'Data Wrangling with Pandas, NumPy, and IPython',\n",
       "   'authors': [{'author_name': 'Wes McKinney',\n",
       "     'author_url': '/en-in/author/wes-mckinney/513179/'}],\n",
       "   'num_authors': 1,\n",
       "   'series': ' Series',\n",
       "   'series_number': '',\n",
       "   'has_series': False,\n",
       "   'series_url': '',\n",
       "   'publisher': \"O'Reilly Media\",\n",
       "   'publication_year': '2017',\n",
       "   'price': 'US$18.79',\n",
       "   'desktop_short_description': 'Get complete instructions for manipulating, processing, cleaning, and crunching datasets in Python. Updated for Python 3.6, the second edition of this hands-on guide is packed with practical case studies that show you how to solve a broad set of data analysis problems effectively. You’ll learn the latest versions of pandas, NumPy, IPython, and...',\n",
       "   'mobile_short_description': 'Get complete instructions for manipulating, processing, cleaning, and crunching datasets in Python....',\n",
       "   'is_preorder': False,\n",
       "   'is_available': True,\n",
       "   'preorder_url': '/account/preorder/?bookId=95871448',\n",
       "   'add_to_cart_url': '/cart/add/95871448/',\n",
       "   'currency_symbol': 'US$',\n",
       "   'price_number': 18.78808128,\n",
       "   'on_sale_date': '2017-09-25T00:00:00'},\n",
       "  {'id': 209820951,\n",
       "   'book_url': '/en-in/book/209820951/effective-typescript/dan-vanderkam/',\n",
       "   'image_url': 'https://image.ebooks.com/previews/209/209820/209820951/209820951-sml-1.jpg',\n",
       "   'image_alt_tag': 'Effective TypeScript: 62 Specific Ways to Improve Your TypeScript',\n",
       "   'title': 'Effective TypeScript',\n",
       "   'edition': '',\n",
       "   'subtitle': '62 Specific Ways to Improve Your TypeScript',\n",
       "   'authors': [{'author_name': 'Dan Vanderkam',\n",
       "     'author_url': '/en-in/author/dan-vanderkam/208299957/'}],\n",
       "   'num_authors': 1,\n",
       "   'series': ' Series',\n",
       "   'series_number': '',\n",
       "   'has_series': False,\n",
       "   'series_url': '',\n",
       "   'publisher': \"O'Reilly Media\",\n",
       "   'publication_year': '2019',\n",
       "   'price': 'US$14.99',\n",
       "   'desktop_short_description': 'TypeScript is a typed superset of JavaScript with the potential to solve many of the headaches for which JavaScript is famous. But TypeScript has a learning curve of its own, and understanding how to use it effectively can take time. This book guides you through 62 specific ways to improve your use of TypeScript.  Author Dan Vanderkam, a principal...',\n",
       "   'mobile_short_description': 'TypeScript is a typed superset of JavaScript with the potential to solve many of the headaches for...',\n",
       "   'is_preorder': False,\n",
       "   'is_available': True,\n",
       "   'preorder_url': '/account/preorder/?bookId=209820951',\n",
       "   'add_to_cart_url': '/cart/add/209820951/',\n",
       "   'currency_symbol': 'US$',\n",
       "   'price_number': 14.99396928,\n",
       "   'on_sale_date': '2019-10-17T00:00:00'},\n",
       "  {'id': 209784911,\n",
       "   'book_url': '/en-in/book/209784911/database-internals/alex-petrov/',\n",
       "   'image_url': 'https://image.ebooks.com/previews/209/209784/209784911/209784911-sml-1.jpg',\n",
       "   'image_alt_tag': 'Database Internals: A Deep Dive into How Distributed Data Systems Work',\n",
       "   'title': 'Database Internals',\n",
       "   'edition': '',\n",
       "   'subtitle': 'A Deep Dive into How Distributed Data Systems Work',\n",
       "   'authors': [{'author_name': 'Alex Petrov',\n",
       "     'author_url': '/en-in/author/alex-petrov/208283562/'}],\n",
       "   'num_authors': 1,\n",
       "   'series': ' Series',\n",
       "   'series_number': '',\n",
       "   'has_series': False,\n",
       "   'series_url': '',\n",
       "   'publisher': \"O'Reilly Media\",\n",
       "   'publication_year': '2019',\n",
       "   'price': 'US$22.40',\n",
       "   'desktop_short_description': 'When it comes to choosing, using, and maintaining a database, understanding its internals is essential. But with so many distributed databases and tools available today, it’s often difficult to understand what each one offers and how they differ. With this practical guide, Alex Petrov guides developers through the concepts behind modern database...',\n",
       "   'mobile_short_description': 'When it comes to choosing, using, and maintaining a database, understanding its internals is...',\n",
       "   'is_preorder': False,\n",
       "   'is_available': True,\n",
       "   'preorder_url': '/account/preorder/?bookId=209784911',\n",
       "   'add_to_cart_url': '/cart/add/209784911/',\n",
       "   'currency_symbol': 'US$',\n",
       "   'price_number': 22.40152128,\n",
       "   'on_sale_date': '2019-09-13T00:00:00'},\n",
       "  {'id': 210338899,\n",
       "   'book_url': '/en-in/book/210338899/building-microservices/sam-newman/',\n",
       "   'image_url': 'https://image.ebooks.com/previews/210/210338/210338899/210338899-sml-1.jpg',\n",
       "   'image_alt_tag': 'Building Microservices',\n",
       "   'title': 'Building Microservices',\n",
       "   'edition': ' (2nd ed.)',\n",
       "   'subtitle': '',\n",
       "   'authors': [{'author_name': 'Sam Newman',\n",
       "     'author_url': '/en-in/author/sam-newman/748359/'}],\n",
       "   'num_authors': 1,\n",
       "   'series': ' Series',\n",
       "   'series_number': '',\n",
       "   'has_series': False,\n",
       "   'series_url': '',\n",
       "   'publisher': \"O'Reilly Media\",\n",
       "   'publication_year': '2021',\n",
       "   'price': 'US$22.40',\n",
       "   'desktop_short_description': 'As organizations shift from monolithic applications to smaller, self-contained microservices, distributed systems have become more fine-grained. But developing these new systems brings its own host of problems. This expanded second edition takes a holistic view of topics that you need to consider when building, managing, and scaling microservices...',\n",
       "   'mobile_short_description': 'As organizations shift from monolithic applications to smaller, self-contained microservices,...',\n",
       "   'is_preorder': False,\n",
       "   'is_available': True,\n",
       "   'preorder_url': '/account/preorder/?bookId=210338899',\n",
       "   'add_to_cart_url': '/cart/add/210338899/',\n",
       "   'currency_symbol': 'US$',\n",
       "   'price_number': 22.40152128,\n",
       "   'on_sale_date': '2021-07-24T00:00:00'},\n",
       "  {'id': 210239573,\n",
       "   'book_url': '/en-in/book/210239573/python-for-excel/felix-zumstein/',\n",
       "   'image_url': 'https://image.ebooks.com/previews/210/210239/210239573/210239573-sml-1.jpg',\n",
       "   'image_alt_tag': 'Python for Excel',\n",
       "   'title': 'Python for Excel',\n",
       "   'edition': '',\n",
       "   'subtitle': '',\n",
       "   'authors': [{'author_name': 'Felix Zumstein',\n",
       "     'author_url': '/en-in/author/felix-zumstein/208533140/'}],\n",
       "   'num_authors': 1,\n",
       "   'series': ' Series',\n",
       "   'series_number': '',\n",
       "   'has_series': False,\n",
       "   'series_url': '',\n",
       "   'publisher': \"O'Reilly Media\",\n",
       "   'publication_year': '2021',\n",
       "   'price': 'US$22.40',\n",
       "   'desktop_short_description': \"While Excel remains ubiquitous in the business world, recent Microsoft feedback forums are full of requests to include Python as an Excel scripting language. In fact, it's the top feature requested. What makes this combination so compelling? In this hands-on guide, Felix Zumstein--creator of xlwings, a popular open source package for automating...\",\n",
       "   'mobile_short_description': 'While Excel remains ubiquitous in the business world, recent Microsoft feedback forums are full of...',\n",
       "   'is_preorder': False,\n",
       "   'is_available': True,\n",
       "   'preorder_url': '/account/preorder/?bookId=210239573',\n",
       "   'add_to_cart_url': '/cart/add/210239573/',\n",
       "   'currency_symbol': 'US$',\n",
       "   'price_number': 22.40152128,\n",
       "   'on_sale_date': '2021-03-04T00:00:00'},\n",
       "  {'id': 210180129,\n",
       "   'book_url': '/en-in/book/210180129/head-first-c/andrew-stellman/',\n",
       "   'image_url': 'https://image.ebooks.com/previews/210/210180/210180129/210180129-sml-1.jpg',\n",
       "   'image_alt_tag': 'Head First C#',\n",
       "   'title': 'Head First C#',\n",
       "   'edition': ' (4th ed.)',\n",
       "   'subtitle': '',\n",
       "   'authors': [{'author_name': 'Andrew Stellman',\n",
       "     'author_url': '/en-in/author/andrew-stellman/182816/'},\n",
       "    {'author_name': 'Jennifer Greene',\n",
       "     'author_url': '/en-in/author/jennifer-greene/67758/'}],\n",
       "   'num_authors': 2,\n",
       "   'series': ' Series',\n",
       "   'series_number': '',\n",
       "   'has_series': False,\n",
       "   'series_url': '',\n",
       "   'publisher': \"O'Reilly Media\",\n",
       "   'publication_year': '2020',\n",
       "   'price': 'US$20.59',\n",
       "   'desktop_short_description': 'What will you learn from this book?   Dive into C# and create apps, user interfaces, games, and more using this fun and highly visual introduction to C#, .NET Core, and Visual Studio. With this completely updated guide, which covers C# 8.0 and Visual Studio 2019, beginning programmers like you will build a fully functional game in the opening...',\n",
       "   'mobile_short_description': 'What will you learn from this book?   Dive into C# and create apps, user interfaces, games, and more...',\n",
       "   'is_preorder': False,\n",
       "   'is_available': True,\n",
       "   'preorder_url': '/account/preorder/?bookId=210180129',\n",
       "   'add_to_cart_url': '/cart/add/210180129/',\n",
       "   'currency_symbol': 'US$',\n",
       "   'price_number': 20.59480128,\n",
       "   'on_sale_date': '2020-12-04T00:00:00'},\n",
       "  {'id': 210022717,\n",
       "   'book_url': '/en-in/book/210022717/javascript-the-definitive-guide/david-flanagan/',\n",
       "   'image_url': 'https://image.ebooks.com/previews/210/210022/210022717/210022717-sml-1.jpg',\n",
       "   'image_alt_tag': 'JavaScript: The Definitive Guide: Master the World&#x27;s Most-Used Programming Language',\n",
       "   'title': 'JavaScript: The Definitive Guide',\n",
       "   'edition': ' (7th ed.)',\n",
       "   'subtitle': \"Master the World's Most-Used Programming Language\",\n",
       "   'authors': [{'author_name': 'David Flanagan',\n",
       "     'author_url': '/en-in/author/david-flanagan/182846/'}],\n",
       "   'num_authors': 1,\n",
       "   'series': ' Series',\n",
       "   'series_number': '',\n",
       "   'has_series': False,\n",
       "   'series_url': '',\n",
       "   'publisher': \"O'Reilly Media\",\n",
       "   'publication_year': '2020',\n",
       "   'price': 'US$22.40',\n",
       "   'desktop_short_description': 'For web developers and other programmers interested in using JavaScript, this bestselling book provides the most comprehensive JavaScript material on the market. The seventh edition represents a significant update, with new information for ECMAScript 2020, and new chapters on language-specific features.   JavaScript: The Definitive Guide  is ideal...',\n",
       "   'mobile_short_description': 'For web developers and other programmers interested in using JavaScript, this bestselling book...',\n",
       "   'is_preorder': False,\n",
       "   'is_available': True,\n",
       "   'preorder_url': '/account/preorder/?bookId=210022717',\n",
       "   'add_to_cart_url': '/cart/add/210022717/',\n",
       "   'currency_symbol': 'US$',\n",
       "   'price_number': 22.40152128,\n",
       "   'on_sale_date': '2020-05-15T00:00:00'},\n",
       "  {'id': 95836888,\n",
       "   'book_url': '/en-in/book/95836888/test-driven-development-with-python/harry-percival/',\n",
       "   'image_url': 'https://image.ebooks.com/previews/095/095836/095836888/095836888-sml-1.jpg',\n",
       "   'image_alt_tag': 'Test-Driven Development with Python: Obey the Testing Goat: Using Django, Selenium, and JavaScript',\n",
       "   'title': 'Test-Driven Development with Python',\n",
       "   'edition': ' (2nd ed.)',\n",
       "   'subtitle': 'Obey the Testing Goat: Using Django, Selenium, and JavaScript',\n",
       "   'authors': [{'author_name': 'Harry Percival',\n",
       "     'author_url': '/en-in/author/harry-percival/208223117/'}],\n",
       "   'num_authors': 1,\n",
       "   'series': ' Series',\n",
       "   'series_number': '',\n",
       "   'has_series': False,\n",
       "   'series_url': '',\n",
       "   'publisher': \"O'Reilly Media\",\n",
       "   'publication_year': '2017',\n",
       "   'price': 'US$17.16',\n",
       "   'desktop_short_description': 'By taking you through the development of a real web application from beginning to end, the second edition of this hands-on guide demonstrates the practical advantages of test-driven development (TDD) with Python. You’ll learn how to write and run tests  before  building each part of your app, and then develop the minimum amount of code required to...',\n",
       "   'mobile_short_description': 'By taking you through the development of a real web application from beginning to end, the second...',\n",
       "   'is_preorder': False,\n",
       "   'is_available': True,\n",
       "   'preorder_url': '/account/preorder/?bookId=95836888',\n",
       "   'add_to_cart_url': '/cart/add/95836888/',\n",
       "   'currency_symbol': 'US$',\n",
       "   'price_number': 17.16203328,\n",
       "   'on_sale_date': '2017-08-02T00:00:00'}],\n",
       " 'pages': [{'number': '1',\n",
       "   'is_selected': True,\n",
       "   'show_mobile': True,\n",
       "   'show_tablet': True,\n",
       "   'search_url': '/en-in/subjects/computers/?ResultOrder=Popularity'},\n",
       "  {'number': '2',\n",
       "   'is_selected': False,\n",
       "   'show_mobile': True,\n",
       "   'show_tablet': True,\n",
       "   'search_url': '/en-in/subjects/computers/?ResultOrder=Popularity&pageNumber=2'},\n",
       "  {'number': '3',\n",
       "   'is_selected': False,\n",
       "   'show_mobile': True,\n",
       "   'show_tablet': True,\n",
       "   'search_url': '/en-in/subjects/computers/?ResultOrder=Popularity&pageNumber=3'},\n",
       "  {'number': '4',\n",
       "   'is_selected': False,\n",
       "   'show_mobile': True,\n",
       "   'show_tablet': True,\n",
       "   'search_url': '/en-in/subjects/computers/?ResultOrder=Popularity&pageNumber=4'},\n",
       "  {'number': '5',\n",
       "   'is_selected': False,\n",
       "   'show_mobile': True,\n",
       "   'show_tablet': True,\n",
       "   'search_url': '/en-in/subjects/computers/?ResultOrder=Popularity&pageNumber=5'},\n",
       "  {'number': '6',\n",
       "   'is_selected': False,\n",
       "   'show_mobile': False,\n",
       "   'show_tablet': True,\n",
       "   'search_url': '/en-in/subjects/computers/?ResultOrder=Popularity&pageNumber=6'},\n",
       "  {'number': '7',\n",
       "   'is_selected': False,\n",
       "   'show_mobile': False,\n",
       "   'show_tablet': True,\n",
       "   'search_url': '/en-in/subjects/computers/?ResultOrder=Popularity&pageNumber=7'},\n",
       "  {'number': '8',\n",
       "   'is_selected': False,\n",
       "   'show_mobile': False,\n",
       "   'show_tablet': True,\n",
       "   'search_url': '/en-in/subjects/computers/?ResultOrder=Popularity&pageNumber=8'},\n",
       "  {'number': '9',\n",
       "   'is_selected': False,\n",
       "   'show_mobile': False,\n",
       "   'show_tablet': False,\n",
       "   'search_url': '/en-in/subjects/computers/?ResultOrder=Popularity&pageNumber=9'}],\n",
       " 'previous_page': None,\n",
       " 'next_page': '/en-in/subjects/computers/?ResultOrder=Popularity&pageNumber=2'}"
      ]
     },
     "execution_count": 4,
     "metadata": {},
     "output_type": "execute_result"
    }
   ],
   "source": [
    "response.json()"
   ]
  },
  {
   "cell_type": "code",
   "execution_count": 5,
   "metadata": {},
   "outputs": [
    {
     "data": {
      "text/plain": [
       "dict"
      ]
     },
     "execution_count": 5,
     "metadata": {},
     "output_type": "execute_result"
    }
   ],
   "source": [
    "type(response.json())"
   ]
  },
  {
   "cell_type": "markdown",
   "metadata": {},
   "source": [
    "#### Step 5 - Output Keys"
   ]
  },
  {
   "cell_type": "code",
   "execution_count": 6,
   "metadata": {},
   "outputs": [
    {
     "data": {
      "text/plain": [
       "dict_keys(['search_term', 'start_record', 'total_results', 'books', 'pages', 'previous_page', 'next_page'])"
      ]
     },
     "execution_count": 6,
     "metadata": {},
     "output_type": "execute_result"
    }
   ],
   "source": [
    "response.json().keys()"
   ]
  },
  {
   "cell_type": "markdown",
   "metadata": {},
   "source": [
    "#### Step 6 - Find your Data"
   ]
  },
  {
   "cell_type": "code",
   "execution_count": 12,
   "metadata": {
    "collapsed": true
   },
   "outputs": [
    {
     "data": {
      "text/plain": [
       "[{'id': 95729334,\n",
       "  'book_url': '/en-in/book/95729334/designing-data-intensive-applications/martin-kleppmann/',\n",
       "  'image_url': 'https://image.ebooks.com/previews/095/095729/095729334/095729334-sml-1.jpg',\n",
       "  'image_alt_tag': 'Designing Data-Intensive Applications: The Big Ideas Behind Reliable, Scalable, and Maintainable Systems',\n",
       "  'title': 'Designing Data-Intensive Applications',\n",
       "  'edition': '',\n",
       "  'subtitle': 'The Big Ideas Behind Reliable, Scalable, and Maintainable Systems',\n",
       "  'authors': [{'author_name': 'Martin Kleppmann',\n",
       "    'author_url': '/en-in/author/martin-kleppmann/1321307/'}],\n",
       "  'num_authors': 1,\n",
       "  'series': ' Series',\n",
       "  'series_number': '',\n",
       "  'has_series': False,\n",
       "  'series_url': '',\n",
       "  'publisher': \"O'Reilly Media\",\n",
       "  'publication_year': '2017',\n",
       "  'price': 'US$14.99',\n",
       "  'desktop_short_description': 'Data is at the center of many challenges in system design today. Difficult issues need to be figured out, such as scalability, consistency, reliability, efficiency, and maintainability. In addition, we have an overwhelming variety of tools, including relational databases, NoSQL datastores, stream or batch processors, and message brokers. What are...',\n",
       "  'mobile_short_description': 'Data is at the center of many challenges in system design today. Difficult issues need to be figured...',\n",
       "  'is_preorder': False,\n",
       "  'is_available': True,\n",
       "  'preorder_url': '/account/preorder/?bookId=95729334',\n",
       "  'add_to_cart_url': '/cart/add/95729334/',\n",
       "  'currency_symbol': 'US$',\n",
       "  'price_number': 14.99396928,\n",
       "  'on_sale_date': '2017-03-16T00:00:00'},\n",
       " {'id': 210313783,\n",
       "  'book_url': '/en-in/book/210313783/programming-rust/jim-blandy/',\n",
       "  'image_url': 'https://image.ebooks.com/previews/210/210313/210313783/210313783-sml-1.jpg',\n",
       "  'image_alt_tag': 'Programming Rust',\n",
       "  'title': 'Programming Rust',\n",
       "  'edition': ' (2nd ed.)',\n",
       "  'subtitle': '',\n",
       "  'authors': [{'author_name': 'Jim Blandy',\n",
       "    'author_url': '/en-in/author/jim-blandy/94214791/'},\n",
       "   {'author_name': 'Jason Orendorff',\n",
       "    'author_url': '/en-in/author/jason-orendorff/94214792/'}],\n",
       "  'num_authors': 3,\n",
       "  'series': ' Series',\n",
       "  'series_number': '',\n",
       "  'has_series': False,\n",
       "  'series_url': '',\n",
       "  'publisher': \"O'Reilly Media\",\n",
       "  'publication_year': '2021',\n",
       "  'price': 'US$22.40',\n",
       "  'desktop_short_description': \"Systems programming provides the foundation for the world's computation. Writing performance-sensitive code requires a programming language that puts programmers in control of how memory, processor time, and other system resources are used. The Rust systems programming language combines that control with a modern type system that catches broad...\",\n",
       "  'mobile_short_description': \"Systems programming provides the foundation for the world's computation. Writing...\",\n",
       "  'is_preorder': False,\n",
       "  'is_available': True,\n",
       "  'preorder_url': '/account/preorder/?bookId=210313783',\n",
       "  'add_to_cart_url': '/cart/add/210313783/',\n",
       "  'currency_symbol': 'US$',\n",
       "  'price_number': 22.40152128,\n",
       "  'on_sale_date': '2021-06-11T00:00:00'},\n",
       " {'id': 95871448,\n",
       "  'book_url': '/en-in/book/95871448/python-for-data-analysis/wes-mckinney/',\n",
       "  'image_url': 'https://image.ebooks.com/previews/095/095871/095871448/095871448-sml-1.jpg',\n",
       "  'image_alt_tag': 'Python for Data Analysis: Data Wrangling with Pandas, NumPy, and IPython',\n",
       "  'title': 'Python for Data Analysis',\n",
       "  'edition': ' (2nd ed.)',\n",
       "  'subtitle': 'Data Wrangling with Pandas, NumPy, and IPython',\n",
       "  'authors': [{'author_name': 'Wes McKinney',\n",
       "    'author_url': '/en-in/author/wes-mckinney/513179/'}],\n",
       "  'num_authors': 1,\n",
       "  'series': ' Series',\n",
       "  'series_number': '',\n",
       "  'has_series': False,\n",
       "  'series_url': '',\n",
       "  'publisher': \"O'Reilly Media\",\n",
       "  'publication_year': '2017',\n",
       "  'price': 'US$18.79',\n",
       "  'desktop_short_description': 'Get complete instructions for manipulating, processing, cleaning, and crunching datasets in Python. Updated for Python 3.6, the second edition of this hands-on guide is packed with practical case studies that show you how to solve a broad set of data analysis problems effectively. You’ll learn the latest versions of pandas, NumPy, IPython, and...',\n",
       "  'mobile_short_description': 'Get complete instructions for manipulating, processing, cleaning, and crunching datasets in Python....',\n",
       "  'is_preorder': False,\n",
       "  'is_available': True,\n",
       "  'preorder_url': '/account/preorder/?bookId=95871448',\n",
       "  'add_to_cart_url': '/cart/add/95871448/',\n",
       "  'currency_symbol': 'US$',\n",
       "  'price_number': 18.78808128,\n",
       "  'on_sale_date': '2017-09-25T00:00:00'},\n",
       " {'id': 209820951,\n",
       "  'book_url': '/en-in/book/209820951/effective-typescript/dan-vanderkam/',\n",
       "  'image_url': 'https://image.ebooks.com/previews/209/209820/209820951/209820951-sml-1.jpg',\n",
       "  'image_alt_tag': 'Effective TypeScript: 62 Specific Ways to Improve Your TypeScript',\n",
       "  'title': 'Effective TypeScript',\n",
       "  'edition': '',\n",
       "  'subtitle': '62 Specific Ways to Improve Your TypeScript',\n",
       "  'authors': [{'author_name': 'Dan Vanderkam',\n",
       "    'author_url': '/en-in/author/dan-vanderkam/208299957/'}],\n",
       "  'num_authors': 1,\n",
       "  'series': ' Series',\n",
       "  'series_number': '',\n",
       "  'has_series': False,\n",
       "  'series_url': '',\n",
       "  'publisher': \"O'Reilly Media\",\n",
       "  'publication_year': '2019',\n",
       "  'price': 'US$14.99',\n",
       "  'desktop_short_description': 'TypeScript is a typed superset of JavaScript with the potential to solve many of the headaches for which JavaScript is famous. But TypeScript has a learning curve of its own, and understanding how to use it effectively can take time. This book guides you through 62 specific ways to improve your use of TypeScript.  Author Dan Vanderkam, a principal...',\n",
       "  'mobile_short_description': 'TypeScript is a typed superset of JavaScript with the potential to solve many of the headaches for...',\n",
       "  'is_preorder': False,\n",
       "  'is_available': True,\n",
       "  'preorder_url': '/account/preorder/?bookId=209820951',\n",
       "  'add_to_cart_url': '/cart/add/209820951/',\n",
       "  'currency_symbol': 'US$',\n",
       "  'price_number': 14.99396928,\n",
       "  'on_sale_date': '2019-10-17T00:00:00'},\n",
       " {'id': 209784911,\n",
       "  'book_url': '/en-in/book/209784911/database-internals/alex-petrov/',\n",
       "  'image_url': 'https://image.ebooks.com/previews/209/209784/209784911/209784911-sml-1.jpg',\n",
       "  'image_alt_tag': 'Database Internals: A Deep Dive into How Distributed Data Systems Work',\n",
       "  'title': 'Database Internals',\n",
       "  'edition': '',\n",
       "  'subtitle': 'A Deep Dive into How Distributed Data Systems Work',\n",
       "  'authors': [{'author_name': 'Alex Petrov',\n",
       "    'author_url': '/en-in/author/alex-petrov/208283562/'}],\n",
       "  'num_authors': 1,\n",
       "  'series': ' Series',\n",
       "  'series_number': '',\n",
       "  'has_series': False,\n",
       "  'series_url': '',\n",
       "  'publisher': \"O'Reilly Media\",\n",
       "  'publication_year': '2019',\n",
       "  'price': 'US$22.40',\n",
       "  'desktop_short_description': 'When it comes to choosing, using, and maintaining a database, understanding its internals is essential. But with so many distributed databases and tools available today, it’s often difficult to understand what each one offers and how they differ. With this practical guide, Alex Petrov guides developers through the concepts behind modern database...',\n",
       "  'mobile_short_description': 'When it comes to choosing, using, and maintaining a database, understanding its internals is...',\n",
       "  'is_preorder': False,\n",
       "  'is_available': True,\n",
       "  'preorder_url': '/account/preorder/?bookId=209784911',\n",
       "  'add_to_cart_url': '/cart/add/209784911/',\n",
       "  'currency_symbol': 'US$',\n",
       "  'price_number': 22.40152128,\n",
       "  'on_sale_date': '2019-09-13T00:00:00'},\n",
       " {'id': 210338899,\n",
       "  'book_url': '/en-in/book/210338899/building-microservices/sam-newman/',\n",
       "  'image_url': 'https://image.ebooks.com/previews/210/210338/210338899/210338899-sml-1.jpg',\n",
       "  'image_alt_tag': 'Building Microservices',\n",
       "  'title': 'Building Microservices',\n",
       "  'edition': ' (2nd ed.)',\n",
       "  'subtitle': '',\n",
       "  'authors': [{'author_name': 'Sam Newman',\n",
       "    'author_url': '/en-in/author/sam-newman/748359/'}],\n",
       "  'num_authors': 1,\n",
       "  'series': ' Series',\n",
       "  'series_number': '',\n",
       "  'has_series': False,\n",
       "  'series_url': '',\n",
       "  'publisher': \"O'Reilly Media\",\n",
       "  'publication_year': '2021',\n",
       "  'price': 'US$22.40',\n",
       "  'desktop_short_description': 'As organizations shift from monolithic applications to smaller, self-contained microservices, distributed systems have become more fine-grained. But developing these new systems brings its own host of problems. This expanded second edition takes a holistic view of topics that you need to consider when building, managing, and scaling microservices...',\n",
       "  'mobile_short_description': 'As organizations shift from monolithic applications to smaller, self-contained microservices,...',\n",
       "  'is_preorder': False,\n",
       "  'is_available': True,\n",
       "  'preorder_url': '/account/preorder/?bookId=210338899',\n",
       "  'add_to_cart_url': '/cart/add/210338899/',\n",
       "  'currency_symbol': 'US$',\n",
       "  'price_number': 22.40152128,\n",
       "  'on_sale_date': '2021-07-24T00:00:00'},\n",
       " {'id': 210239573,\n",
       "  'book_url': '/en-in/book/210239573/python-for-excel/felix-zumstein/',\n",
       "  'image_url': 'https://image.ebooks.com/previews/210/210239/210239573/210239573-sml-1.jpg',\n",
       "  'image_alt_tag': 'Python for Excel',\n",
       "  'title': 'Python for Excel',\n",
       "  'edition': '',\n",
       "  'subtitle': '',\n",
       "  'authors': [{'author_name': 'Felix Zumstein',\n",
       "    'author_url': '/en-in/author/felix-zumstein/208533140/'}],\n",
       "  'num_authors': 1,\n",
       "  'series': ' Series',\n",
       "  'series_number': '',\n",
       "  'has_series': False,\n",
       "  'series_url': '',\n",
       "  'publisher': \"O'Reilly Media\",\n",
       "  'publication_year': '2021',\n",
       "  'price': 'US$22.40',\n",
       "  'desktop_short_description': \"While Excel remains ubiquitous in the business world, recent Microsoft feedback forums are full of requests to include Python as an Excel scripting language. In fact, it's the top feature requested. What makes this combination so compelling? In this hands-on guide, Felix Zumstein--creator of xlwings, a popular open source package for automating...\",\n",
       "  'mobile_short_description': 'While Excel remains ubiquitous in the business world, recent Microsoft feedback forums are full of...',\n",
       "  'is_preorder': False,\n",
       "  'is_available': True,\n",
       "  'preorder_url': '/account/preorder/?bookId=210239573',\n",
       "  'add_to_cart_url': '/cart/add/210239573/',\n",
       "  'currency_symbol': 'US$',\n",
       "  'price_number': 22.40152128,\n",
       "  'on_sale_date': '2021-03-04T00:00:00'},\n",
       " {'id': 210180129,\n",
       "  'book_url': '/en-in/book/210180129/head-first-c/andrew-stellman/',\n",
       "  'image_url': 'https://image.ebooks.com/previews/210/210180/210180129/210180129-sml-1.jpg',\n",
       "  'image_alt_tag': 'Head First C#',\n",
       "  'title': 'Head First C#',\n",
       "  'edition': ' (4th ed.)',\n",
       "  'subtitle': '',\n",
       "  'authors': [{'author_name': 'Andrew Stellman',\n",
       "    'author_url': '/en-in/author/andrew-stellman/182816/'},\n",
       "   {'author_name': 'Jennifer Greene',\n",
       "    'author_url': '/en-in/author/jennifer-greene/67758/'}],\n",
       "  'num_authors': 2,\n",
       "  'series': ' Series',\n",
       "  'series_number': '',\n",
       "  'has_series': False,\n",
       "  'series_url': '',\n",
       "  'publisher': \"O'Reilly Media\",\n",
       "  'publication_year': '2020',\n",
       "  'price': 'US$20.59',\n",
       "  'desktop_short_description': 'What will you learn from this book?   Dive into C# and create apps, user interfaces, games, and more using this fun and highly visual introduction to C#, .NET Core, and Visual Studio. With this completely updated guide, which covers C# 8.0 and Visual Studio 2019, beginning programmers like you will build a fully functional game in the opening...',\n",
       "  'mobile_short_description': 'What will you learn from this book?   Dive into C# and create apps, user interfaces, games, and more...',\n",
       "  'is_preorder': False,\n",
       "  'is_available': True,\n",
       "  'preorder_url': '/account/preorder/?bookId=210180129',\n",
       "  'add_to_cart_url': '/cart/add/210180129/',\n",
       "  'currency_symbol': 'US$',\n",
       "  'price_number': 20.59480128,\n",
       "  'on_sale_date': '2020-12-04T00:00:00'},\n",
       " {'id': 210022717,\n",
       "  'book_url': '/en-in/book/210022717/javascript-the-definitive-guide/david-flanagan/',\n",
       "  'image_url': 'https://image.ebooks.com/previews/210/210022/210022717/210022717-sml-1.jpg',\n",
       "  'image_alt_tag': 'JavaScript: The Definitive Guide: Master the World&#x27;s Most-Used Programming Language',\n",
       "  'title': 'JavaScript: The Definitive Guide',\n",
       "  'edition': ' (7th ed.)',\n",
       "  'subtitle': \"Master the World's Most-Used Programming Language\",\n",
       "  'authors': [{'author_name': 'David Flanagan',\n",
       "    'author_url': '/en-in/author/david-flanagan/182846/'}],\n",
       "  'num_authors': 1,\n",
       "  'series': ' Series',\n",
       "  'series_number': '',\n",
       "  'has_series': False,\n",
       "  'series_url': '',\n",
       "  'publisher': \"O'Reilly Media\",\n",
       "  'publication_year': '2020',\n",
       "  'price': 'US$22.40',\n",
       "  'desktop_short_description': 'For web developers and other programmers interested in using JavaScript, this bestselling book provides the most comprehensive JavaScript material on the market. The seventh edition represents a significant update, with new information for ECMAScript 2020, and new chapters on language-specific features.   JavaScript: The Definitive Guide  is ideal...',\n",
       "  'mobile_short_description': 'For web developers and other programmers interested in using JavaScript, this bestselling book...',\n",
       "  'is_preorder': False,\n",
       "  'is_available': True,\n",
       "  'preorder_url': '/account/preorder/?bookId=210022717',\n",
       "  'add_to_cart_url': '/cart/add/210022717/',\n",
       "  'currency_symbol': 'US$',\n",
       "  'price_number': 22.40152128,\n",
       "  'on_sale_date': '2020-05-15T00:00:00'},\n",
       " {'id': 95836888,\n",
       "  'book_url': '/en-in/book/95836888/test-driven-development-with-python/harry-percival/',\n",
       "  'image_url': 'https://image.ebooks.com/previews/095/095836/095836888/095836888-sml-1.jpg',\n",
       "  'image_alt_tag': 'Test-Driven Development with Python: Obey the Testing Goat: Using Django, Selenium, and JavaScript',\n",
       "  'title': 'Test-Driven Development with Python',\n",
       "  'edition': ' (2nd ed.)',\n",
       "  'subtitle': 'Obey the Testing Goat: Using Django, Selenium, and JavaScript',\n",
       "  'authors': [{'author_name': 'Harry Percival',\n",
       "    'author_url': '/en-in/author/harry-percival/208223117/'}],\n",
       "  'num_authors': 1,\n",
       "  'series': ' Series',\n",
       "  'series_number': '',\n",
       "  'has_series': False,\n",
       "  'series_url': '',\n",
       "  'publisher': \"O'Reilly Media\",\n",
       "  'publication_year': '2017',\n",
       "  'price': 'US$17.16',\n",
       "  'desktop_short_description': 'By taking you through the development of a real web application from beginning to end, the second edition of this hands-on guide demonstrates the practical advantages of test-driven development (TDD) with Python. You’ll learn how to write and run tests  before  building each part of your app, and then develop the minimum amount of code required to...',\n",
       "  'mobile_short_description': 'By taking you through the development of a real web application from beginning to end, the second...',\n",
       "  'is_preorder': False,\n",
       "  'is_available': True,\n",
       "  'preorder_url': '/account/preorder/?bookId=95836888',\n",
       "  'add_to_cart_url': '/cart/add/95836888/',\n",
       "  'currency_symbol': 'US$',\n",
       "  'price_number': 17.16203328,\n",
       "  'on_sale_date': '2017-08-02T00:00:00'}]"
      ]
     },
     "execution_count": 12,
     "metadata": {},
     "output_type": "execute_result"
    }
   ],
   "source": [
    "#Title\n",
    "#Subtile\n",
    "#Author\n",
    "#Publisher \n",
    "#Publication date\n",
    "#Price\n",
    "response.json()['books']"
   ]
  },
  {
   "cell_type": "code",
   "execution_count": 13,
   "metadata": {},
   "outputs": [
    {
     "data": {
      "text/plain": [
       "10"
      ]
     },
     "execution_count": 13,
     "metadata": {},
     "output_type": "execute_result"
    }
   ],
   "source": [
    "len(response.json()['books'])"
   ]
  },
  {
   "cell_type": "code",
   "execution_count": 16,
   "metadata": {},
   "outputs": [],
   "source": [
    "result_json = response.json()['books']"
   ]
  },
  {
   "cell_type": "code",
   "execution_count": 31,
   "metadata": {},
   "outputs": [
    {
     "data": {
      "text/plain": [
       "'Designing Data-Intensive Applications'"
      ]
     },
     "execution_count": 31,
     "metadata": {},
     "output_type": "execute_result"
    }
   ],
   "source": [
    "#title\n",
    "result_json[0]['title']"
   ]
  },
  {
   "cell_type": "code",
   "execution_count": 34,
   "metadata": {},
   "outputs": [
    {
     "data": {
      "text/plain": [
       "'The Big Ideas Behind Reliable, Scalable, and Maintainable Systems'"
      ]
     },
     "execution_count": 34,
     "metadata": {},
     "output_type": "execute_result"
    }
   ],
   "source": [
    "#subtile\n",
    "result_json[0]['subtitle']"
   ]
  },
  {
   "cell_type": "code",
   "execution_count": 55,
   "metadata": {},
   "outputs": [
    {
     "data": {
      "text/plain": [
       "'Martin Kleppmann'"
      ]
     },
     "execution_count": 55,
     "metadata": {},
     "output_type": "execute_result"
    }
   ],
   "source": [
    "#authors\n",
    "result_json[0]['authors'][0]['author_name']"
   ]
  },
  {
   "cell_type": "code",
   "execution_count": 49,
   "metadata": {},
   "outputs": [
    {
     "data": {
      "text/plain": [
       "\"O'Reilly Media\""
      ]
     },
     "execution_count": 49,
     "metadata": {},
     "output_type": "execute_result"
    }
   ],
   "source": [
    "#Publishers\n",
    "result_json[0]['publisher']"
   ]
  },
  {
   "cell_type": "code",
   "execution_count": 48,
   "metadata": {},
   "outputs": [
    {
     "data": {
      "text/plain": [
       "'2017'"
      ]
     },
     "execution_count": 48,
     "metadata": {},
     "output_type": "execute_result"
    }
   ],
   "source": [
    "#Publication year\n",
    "result_json[0]['publication_year']"
   ]
  },
  {
   "cell_type": "code",
   "execution_count": 44,
   "metadata": {},
   "outputs": [
    {
     "data": {
      "text/plain": [
       "'US$14.99'"
      ]
     },
     "execution_count": 44,
     "metadata": {},
     "output_type": "execute_result"
    }
   ],
   "source": [
    "#price\n",
    "result_json[0]['price']"
   ]
  },
  {
   "cell_type": "markdown",
   "metadata": {},
   "source": [
    "#### Step 7 - Put everything together - Loop through results and append data inside a list"
   ]
  },
  {
   "cell_type": "code",
   "execution_count": 57,
   "metadata": {},
   "outputs": [],
   "source": [
    "title = []\n",
    "subtitle = []\n",
    "author = []\n",
    "publisher = []\n",
    "publication_year = []\n",
    "price = []\n",
    "\n",
    "for result in result_json:\n",
    "    title.append(result['title'])\n",
    "    subtitle.append(result['subtitle'])\n",
    "    author.append(result['authors'][0]['author_name'])\n",
    "    publisher.append(result['publisher'])\n",
    "    publication_year.append(result['publication_year'])\n",
    "    price.append(result['price'])\n"
   ]
  },
  {
   "cell_type": "code",
   "execution_count": 58,
   "metadata": {},
   "outputs": [
    {
     "data": {
      "text/plain": [
       "['Designing Data-Intensive Applications',\n",
       " 'Programming Rust',\n",
       " 'Python for Data Analysis',\n",
       " 'Effective TypeScript',\n",
       " 'Database Internals',\n",
       " 'Building Microservices',\n",
       " 'Python for Excel',\n",
       " 'Head First C#',\n",
       " 'JavaScript: The Definitive Guide',\n",
       " 'Test-Driven Development with Python']"
      ]
     },
     "execution_count": 58,
     "metadata": {},
     "output_type": "execute_result"
    }
   ],
   "source": [
    "title"
   ]
  },
  {
   "cell_type": "code",
   "execution_count": 59,
   "metadata": {},
   "outputs": [
    {
     "data": {
      "text/plain": [
       "['The Big Ideas Behind Reliable, Scalable, and Maintainable Systems',\n",
       " '',\n",
       " 'Data Wrangling with Pandas, NumPy, and IPython',\n",
       " '62 Specific Ways to Improve Your TypeScript',\n",
       " 'A Deep Dive into How Distributed Data Systems Work',\n",
       " '',\n",
       " '',\n",
       " '',\n",
       " \"Master the World's Most-Used Programming Language\",\n",
       " 'Obey the Testing Goat: Using Django, Selenium, and JavaScript']"
      ]
     },
     "execution_count": 59,
     "metadata": {},
     "output_type": "execute_result"
    }
   ],
   "source": [
    "subtitle"
   ]
  },
  {
   "cell_type": "code",
   "execution_count": 60,
   "metadata": {},
   "outputs": [
    {
     "data": {
      "text/plain": [
       "['Martin Kleppmann',\n",
       " 'Jim Blandy',\n",
       " 'Wes McKinney',\n",
       " 'Dan Vanderkam',\n",
       " 'Alex Petrov',\n",
       " 'Sam Newman',\n",
       " 'Felix Zumstein',\n",
       " 'Andrew Stellman',\n",
       " 'David Flanagan',\n",
       " 'Harry Percival']"
      ]
     },
     "execution_count": 60,
     "metadata": {},
     "output_type": "execute_result"
    }
   ],
   "source": [
    "author"
   ]
  },
  {
   "cell_type": "code",
   "execution_count": 61,
   "metadata": {},
   "outputs": [
    {
     "data": {
      "text/plain": [
       "[\"O'Reilly Media\",\n",
       " \"O'Reilly Media\",\n",
       " \"O'Reilly Media\",\n",
       " \"O'Reilly Media\",\n",
       " \"O'Reilly Media\",\n",
       " \"O'Reilly Media\",\n",
       " \"O'Reilly Media\",\n",
       " \"O'Reilly Media\",\n",
       " \"O'Reilly Media\",\n",
       " \"O'Reilly Media\"]"
      ]
     },
     "execution_count": 61,
     "metadata": {},
     "output_type": "execute_result"
    }
   ],
   "source": [
    "publisher"
   ]
  },
  {
   "cell_type": "code",
   "execution_count": 62,
   "metadata": {},
   "outputs": [
    {
     "data": {
      "text/plain": [
       "['2017',\n",
       " '2021',\n",
       " '2017',\n",
       " '2019',\n",
       " '2019',\n",
       " '2021',\n",
       " '2021',\n",
       " '2020',\n",
       " '2020',\n",
       " '2017']"
      ]
     },
     "execution_count": 62,
     "metadata": {},
     "output_type": "execute_result"
    }
   ],
   "source": [
    "publication_year"
   ]
  },
  {
   "cell_type": "code",
   "execution_count": 63,
   "metadata": {},
   "outputs": [
    {
     "data": {
      "text/plain": [
       "['US$14.99',\n",
       " 'US$22.40',\n",
       " 'US$18.79',\n",
       " 'US$14.99',\n",
       " 'US$22.40',\n",
       " 'US$22.40',\n",
       " 'US$22.40',\n",
       " 'US$20.59',\n",
       " 'US$22.40',\n",
       " 'US$17.16']"
      ]
     },
     "execution_count": 63,
     "metadata": {},
     "output_type": "execute_result"
    }
   ],
   "source": [
    "price"
   ]
  },
  {
   "cell_type": "markdown",
   "metadata": {},
   "source": [
    "#### Step 8 - Pandas Dataframe"
   ]
  },
  {
   "cell_type": "code",
   "execution_count": 66,
   "metadata": {},
   "outputs": [],
   "source": [
    "book_df = pd.DataFrame({'Title': title, 'Subtitle': subtitle, 'Author':author, 'Publisher':publisher, \n",
    "                        'Publication_year': publication_year ,'Price':price})"
   ]
  },
  {
   "cell_type": "code",
   "execution_count": 67,
   "metadata": {},
   "outputs": [
    {
     "data": {
      "text/html": [
       "<div>\n",
       "<style scoped>\n",
       "    .dataframe tbody tr th:only-of-type {\n",
       "        vertical-align: middle;\n",
       "    }\n",
       "\n",
       "    .dataframe tbody tr th {\n",
       "        vertical-align: top;\n",
       "    }\n",
       "\n",
       "    .dataframe thead th {\n",
       "        text-align: right;\n",
       "    }\n",
       "</style>\n",
       "<table border=\"1\" class=\"dataframe\">\n",
       "  <thead>\n",
       "    <tr style=\"text-align: right;\">\n",
       "      <th></th>\n",
       "      <th>Title</th>\n",
       "      <th>Subtitle</th>\n",
       "      <th>Author</th>\n",
       "      <th>Publisher</th>\n",
       "      <th>Publication_year</th>\n",
       "      <th>Price</th>\n",
       "    </tr>\n",
       "  </thead>\n",
       "  <tbody>\n",
       "    <tr>\n",
       "      <th>0</th>\n",
       "      <td>Designing Data-Intensive Applications</td>\n",
       "      <td>The Big Ideas Behind Reliable, Scalable, and M...</td>\n",
       "      <td>Martin Kleppmann</td>\n",
       "      <td>O'Reilly Media</td>\n",
       "      <td>2017</td>\n",
       "      <td>US$14.99</td>\n",
       "    </tr>\n",
       "    <tr>\n",
       "      <th>1</th>\n",
       "      <td>Programming Rust</td>\n",
       "      <td></td>\n",
       "      <td>Jim Blandy</td>\n",
       "      <td>O'Reilly Media</td>\n",
       "      <td>2021</td>\n",
       "      <td>US$22.40</td>\n",
       "    </tr>\n",
       "    <tr>\n",
       "      <th>2</th>\n",
       "      <td>Python for Data Analysis</td>\n",
       "      <td>Data Wrangling with Pandas, NumPy, and IPython</td>\n",
       "      <td>Wes McKinney</td>\n",
       "      <td>O'Reilly Media</td>\n",
       "      <td>2017</td>\n",
       "      <td>US$18.79</td>\n",
       "    </tr>\n",
       "    <tr>\n",
       "      <th>3</th>\n",
       "      <td>Effective TypeScript</td>\n",
       "      <td>62 Specific Ways to Improve Your TypeScript</td>\n",
       "      <td>Dan Vanderkam</td>\n",
       "      <td>O'Reilly Media</td>\n",
       "      <td>2019</td>\n",
       "      <td>US$14.99</td>\n",
       "    </tr>\n",
       "    <tr>\n",
       "      <th>4</th>\n",
       "      <td>Database Internals</td>\n",
       "      <td>A Deep Dive into How Distributed Data Systems ...</td>\n",
       "      <td>Alex Petrov</td>\n",
       "      <td>O'Reilly Media</td>\n",
       "      <td>2019</td>\n",
       "      <td>US$22.40</td>\n",
       "    </tr>\n",
       "    <tr>\n",
       "      <th>5</th>\n",
       "      <td>Building Microservices</td>\n",
       "      <td></td>\n",
       "      <td>Sam Newman</td>\n",
       "      <td>O'Reilly Media</td>\n",
       "      <td>2021</td>\n",
       "      <td>US$22.40</td>\n",
       "    </tr>\n",
       "    <tr>\n",
       "      <th>6</th>\n",
       "      <td>Python for Excel</td>\n",
       "      <td></td>\n",
       "      <td>Felix Zumstein</td>\n",
       "      <td>O'Reilly Media</td>\n",
       "      <td>2021</td>\n",
       "      <td>US$22.40</td>\n",
       "    </tr>\n",
       "    <tr>\n",
       "      <th>7</th>\n",
       "      <td>Head First C#</td>\n",
       "      <td></td>\n",
       "      <td>Andrew Stellman</td>\n",
       "      <td>O'Reilly Media</td>\n",
       "      <td>2020</td>\n",
       "      <td>US$20.59</td>\n",
       "    </tr>\n",
       "    <tr>\n",
       "      <th>8</th>\n",
       "      <td>JavaScript: The Definitive Guide</td>\n",
       "      <td>Master the World's Most-Used Programming Language</td>\n",
       "      <td>David Flanagan</td>\n",
       "      <td>O'Reilly Media</td>\n",
       "      <td>2020</td>\n",
       "      <td>US$22.40</td>\n",
       "    </tr>\n",
       "    <tr>\n",
       "      <th>9</th>\n",
       "      <td>Test-Driven Development with Python</td>\n",
       "      <td>Obey the Testing Goat: Using Django, Selenium,...</td>\n",
       "      <td>Harry Percival</td>\n",
       "      <td>O'Reilly Media</td>\n",
       "      <td>2017</td>\n",
       "      <td>US$17.16</td>\n",
       "    </tr>\n",
       "  </tbody>\n",
       "</table>\n",
       "</div>"
      ],
      "text/plain": [
       "                                   Title  \\\n",
       "0  Designing Data-Intensive Applications   \n",
       "1                       Programming Rust   \n",
       "2               Python for Data Analysis   \n",
       "3                   Effective TypeScript   \n",
       "4                     Database Internals   \n",
       "5                 Building Microservices   \n",
       "6                       Python for Excel   \n",
       "7                          Head First C#   \n",
       "8       JavaScript: The Definitive Guide   \n",
       "9    Test-Driven Development with Python   \n",
       "\n",
       "                                            Subtitle            Author  \\\n",
       "0  The Big Ideas Behind Reliable, Scalable, and M...  Martin Kleppmann   \n",
       "1                                                           Jim Blandy   \n",
       "2     Data Wrangling with Pandas, NumPy, and IPython      Wes McKinney   \n",
       "3        62 Specific Ways to Improve Your TypeScript     Dan Vanderkam   \n",
       "4  A Deep Dive into How Distributed Data Systems ...       Alex Petrov   \n",
       "5                                                           Sam Newman   \n",
       "6                                                       Felix Zumstein   \n",
       "7                                                      Andrew Stellman   \n",
       "8  Master the World's Most-Used Programming Language    David Flanagan   \n",
       "9  Obey the Testing Goat: Using Django, Selenium,...    Harry Percival   \n",
       "\n",
       "        Publisher Publication_year     Price  \n",
       "0  O'Reilly Media             2017  US$14.99  \n",
       "1  O'Reilly Media             2021  US$22.40  \n",
       "2  O'Reilly Media             2017  US$18.79  \n",
       "3  O'Reilly Media             2019  US$14.99  \n",
       "4  O'Reilly Media             2019  US$22.40  \n",
       "5  O'Reilly Media             2021  US$22.40  \n",
       "6  O'Reilly Media             2021  US$22.40  \n",
       "7  O'Reilly Media             2020  US$20.59  \n",
       "8  O'Reilly Media             2020  US$22.40  \n",
       "9  O'Reilly Media             2017  US$17.16  "
      ]
     },
     "execution_count": 67,
     "metadata": {},
     "output_type": "execute_result"
    }
   ],
   "source": [
    "book_df"
   ]
  },
  {
   "cell_type": "markdown",
   "metadata": {},
   "source": [
    "#### Step 9 - Store results in Excel"
   ]
  },
  {
   "cell_type": "code",
   "execution_count": 68,
   "metadata": {},
   "outputs": [],
   "source": [
    "book_df.to_excel('books.xlsx',index=False)"
   ]
  }
 ],
 "metadata": {
  "kernelspec": {
   "display_name": "Python 3",
   "language": "python",
   "name": "python3"
  },
  "language_info": {
   "codemirror_mode": {
    "name": "ipython",
    "version": 3
   },
   "file_extension": ".py",
   "mimetype": "text/x-python",
   "name": "python",
   "nbconvert_exporter": "python",
   "pygments_lexer": "ipython3",
   "version": "3.8.8"
  }
 },
 "nbformat": 4,
 "nbformat_minor": 4
}
